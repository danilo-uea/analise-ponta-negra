{
  "nbformat": 4,
  "nbformat_minor": 0,
  "metadata": {
    "colab": {
      "provenance": [],
      "mount_file_id": "1lP41fmQOjgKlqRo9ckpmr0u440NNzYL6",
      "authorship_tag": "ABX9TyMtfcuvwf5Sy/24rbV0bMaV"
    },
    "kernelspec": {
      "name": "python3",
      "display_name": "Python 3"
    },
    "language_info": {
      "name": "python"
    }
  },
  "cells": [
    {
      "cell_type": "code",
      "execution_count": 89,
      "metadata": {
        "id": "xP3uzRK_nweu"
      },
      "outputs": [],
      "source": [
        "import pandas as pd\n",
        "import matplotlib.pyplot as plt\n",
        "import numpy as np"
      ]
    },
    {
      "cell_type": "code",
      "source": [
        "df = pd.read_csv(\"/content/drive/MyDrive/dados_colab/ponta_negra/todos_202308121223.csv\", sep=\";\")"
      ],
      "metadata": {
        "id": "wB_XTOfddOfS"
      },
      "execution_count": 90,
      "outputs": []
    },
    {
      "cell_type": "markdown",
      "source": [
        "Separar os valores e adicionar as novas colunas"
      ],
      "metadata": {
        "id": "ECcG2dyiNv1M"
      }
    },
    {
      "cell_type": "code",
      "source": [
        "new_columns = df['valores'].str.split(';', expand=True)\n",
        "new_column_names = [\n",
        "    'contador',\n",
        "    'hora',\n",
        "    'minuto',\n",
        "    'segundo',\n",
        "    'dia',\n",
        "    'mes',\n",
        "    'ano',\n",
        "    'latitude',\n",
        "    'longitude',\n",
        "    'temperatura',\n",
        "    'umidade',\n",
        "    'tamanho',\n",
        "    'rssi']\n",
        "new_columns.columns = new_column_names\n",
        "\n",
        "# Concatenar as novas colunas no DataFrame original\n",
        "df = pd.concat([df, new_columns], axis=1)\n",
        "\n",
        "# Removendo colunas desnecessárias\n",
        "df.drop(columns = ['id', 'valores'], inplace=True)\n",
        "# df.head()"
      ],
      "metadata": {
        "id": "FQt8NAuPogma"
      },
      "execution_count": 91,
      "outputs": []
    },
    {
      "cell_type": "markdown",
      "source": [
        "Criando o DataFrame do Mock"
      ],
      "metadata": {
        "id": "QyVxdJqeOgcj"
      }
    },
    {
      "cell_type": "code",
      "source": [
        "df_mock = pd.DataFrame(df[\n",
        "      (df['dia'] == '4') &\n",
        "      (df['mes'] == '5') &\n",
        "      (df['ano'] == '6')\n",
        "])\n",
        "print(f'Qtd total {df.count()[0]}')\n",
        "print(f'Qtd mock {df_mock.count()[0]}')\n",
        "print(f'Qtd barco {df.count()[0] - df_mock.count()[0]}')"
      ],
      "metadata": {
        "colab": {
          "base_uri": "https://localhost:8080/"
        },
        "id": "kB_2hTcohrGo",
        "outputId": "2389b0c8-3b95-4c4e-c49b-c1344660f747"
      },
      "execution_count": 92,
      "outputs": [
        {
          "output_type": "stream",
          "name": "stdout",
          "text": [
            "Qtd total 7793\n",
            "Qtd mock 6156\n",
            "Qtd barco 1637\n"
          ]
        }
      ]
    },
    {
      "cell_type": "markdown",
      "source": [
        "Criando o DataFrame do barco"
      ],
      "metadata": {
        "id": "ivqAM7ZbOkRj"
      }
    },
    {
      "cell_type": "code",
      "source": [
        "df_barco = pd.DataFrame(df[\n",
        "      (df['dia'] != '4') |\n",
        "      (df['mes'] != '5') |\n",
        "      (df['ano'] != '6')\n",
        "])\n",
        "\n",
        "print(f'Qtd barco {df_barco.count()[0]}')"
      ],
      "metadata": {
        "colab": {
          "base_uri": "https://localhost:8080/"
        },
        "id": "fMIaOIlHmowr",
        "outputId": "9d2b05e1-7c86-4cf4-af43-554079d5b9e8"
      },
      "execution_count": 93,
      "outputs": [
        {
          "output_type": "stream",
          "name": "stdout",
          "text": [
            "Qtd barco 1637\n"
          ]
        }
      ]
    },
    {
      "cell_type": "markdown",
      "source": [
        "Formatando a data hora do GPS"
      ],
      "metadata": {
        "id": "Sibax4QMM2Yu"
      }
    },
    {
      "cell_type": "code",
      "source": [
        "def create_datetime(row):\n",
        "    ano = str(row['ano']).zfill(4)\n",
        "    mes = str(row['mes']).zfill(2)\n",
        "    dia = str(row['dia']).zfill(2)\n",
        "    hora = str(row['hora']).zfill(2)\n",
        "    minuto = str(row['minuto']).zfill(2)\n",
        "    segundo = str(row['segundo']).zfill(2)\n",
        "    return f'{ano}-{mes}-{dia} {hora}:{minuto}:{segundo}'\n",
        "\n",
        "df['data_hora_gps'] = df.apply(create_datetime, axis=1)\n",
        "df.drop(columns = ['hora', 'minuto', 'segundo', 'dia', 'mes', 'ano'], inplace=True)\n",
        "\n",
        "df_mock['data_hora_gps'] = df_mock.apply(create_datetime, axis=1)\n",
        "df_mock.drop(columns = ['hora', 'minuto', 'segundo', 'dia', 'mes', 'ano'], inplace=True)\n",
        "\n",
        "df_barco['data_hora_gps'] = df_barco.apply(create_datetime, axis=1)\n",
        "df_barco.drop(columns = ['hora', 'minuto', 'segundo', 'dia', 'mes', 'ano'], inplace=True)"
      ],
      "metadata": {
        "id": "v5IRBERsva3m"
      },
      "execution_count": 94,
      "outputs": []
    },
    {
      "cell_type": "markdown",
      "source": [
        "Exporta os dados para um arquivo em csv"
      ],
      "metadata": {
        "id": "IzpugLRfMhSH"
      }
    },
    {
      "cell_type": "code",
      "source": [
        "df.to_csv('todos.csv', index=False, sep=';')\n",
        "df_mock.to_csv('mock.csv', index=False, sep=';')\n",
        "df_barco.to_csv('barco.csv', index=False, sep=';')"
      ],
      "metadata": {
        "id": "Fq8l3m6dKmPj"
      },
      "execution_count": 95,
      "outputs": []
    },
    {
      "cell_type": "markdown",
      "source": [
        "Converte as colunas para os tipos int32 e float64"
      ],
      "metadata": {
        "id": "X7MevyaCEJlv"
      }
    },
    {
      "cell_type": "code",
      "source": [
        "df_barco.reset_index(drop=True, inplace=True)\n",
        "df_barco['contador'] = df_barco['contador'].astype(np.int32)\n",
        "df_barco['latitude'] = df_barco['latitude'].astype(np.float64)\n",
        "df_barco['longitude'] = df_barco['longitude'].astype(np.float64)\n",
        "df_barco['rssi'] = df_barco['rssi'].astype(np.int32)\n",
        "# print(type(df_barco))\n",
        "print(df_barco.dtypes)\n",
        "# print(df_barco.columns.values)"
      ],
      "metadata": {
        "colab": {
          "base_uri": "https://localhost:8080/"
        },
        "id": "wV49RN526WcJ",
        "outputId": "1f654acd-098c-418d-bf45-d2c886d03e15"
      },
      "execution_count": 96,
      "outputs": [
        {
          "output_type": "stream",
          "name": "stdout",
          "text": [
            "data_hora_criacao     object\n",
            "contador               int32\n",
            "latitude             float64\n",
            "longitude            float64\n",
            "temperatura           object\n",
            "umidade               object\n",
            "tamanho               object\n",
            "rssi                   int32\n",
            "data_hora_gps         object\n",
            "dtype: object\n"
          ]
        }
      ]
    },
    {
      "cell_type": "code",
      "source": [
        "df_barco.head()"
      ],
      "metadata": {
        "colab": {
          "base_uri": "https://localhost:8080/",
          "height": 392
        },
        "id": "JIFcETfdO0Iq",
        "outputId": "379e0a76-6fde-42c4-9002-c0b5c68acc23"
      },
      "execution_count": 97,
      "outputs": [
        {
          "output_type": "execute_result",
          "data": {
            "text/plain": [
              "         data_hora_criacao  contador      latitude     longitude  \\\n",
              "0  2023-08-06 20:43:55.317      6842 -3.063638e+00 -6.010954e+01   \n",
              "1  2023-08-06 20:43:52.156      6838  1.218980e+05 -0.000000e+00   \n",
              "2  2023-08-06 20:43:43.978      6832 -3.064039e+00 -6.010912e+01   \n",
              "3  2023-08-06 20:43:38.323      6827  4.556444e+19 -9.403112e+01   \n",
              "4  2023-08-06 20:43:36.135      6825 -0.000000e+00 -2.481117e+27   \n",
              "\n",
              "              temperatura                 umidade tamanho  rssi  \\\n",
              "0                    31.1                    68.4      52  -100   \n",
              "1   8.154514060939243e+34                     0.0      52   -98   \n",
              "2                    31.1                    64.2      52   -97   \n",
              "3                    13.2  4.2691601403721444e+30      52   -97   \n",
              "4  -2.285208600532596e+30                    -0.8      52   -97   \n",
              "\n",
              "                                       data_hora_gps  \n",
              "0  214521719-32776--1877958650 655380:43:-1599471561  \n",
              "1                      1610663911-08-349446 20:43:50  \n",
              "2                             9439207-08-06 20:43:44  \n",
              "3         -1675181147--2008266680-06 20:43:808452134  \n",
              "4                   2023--1069232928-264198 20:43:36  "
            ],
            "text/html": [
              "\n",
              "\n",
              "  <div id=\"df-2d14820c-8895-4cc1-aacb-24919120bc77\">\n",
              "    <div class=\"colab-df-container\">\n",
              "      <div>\n",
              "<style scoped>\n",
              "    .dataframe tbody tr th:only-of-type {\n",
              "        vertical-align: middle;\n",
              "    }\n",
              "\n",
              "    .dataframe tbody tr th {\n",
              "        vertical-align: top;\n",
              "    }\n",
              "\n",
              "    .dataframe thead th {\n",
              "        text-align: right;\n",
              "    }\n",
              "</style>\n",
              "<table border=\"1\" class=\"dataframe\">\n",
              "  <thead>\n",
              "    <tr style=\"text-align: right;\">\n",
              "      <th></th>\n",
              "      <th>data_hora_criacao</th>\n",
              "      <th>contador</th>\n",
              "      <th>latitude</th>\n",
              "      <th>longitude</th>\n",
              "      <th>temperatura</th>\n",
              "      <th>umidade</th>\n",
              "      <th>tamanho</th>\n",
              "      <th>rssi</th>\n",
              "      <th>data_hora_gps</th>\n",
              "    </tr>\n",
              "  </thead>\n",
              "  <tbody>\n",
              "    <tr>\n",
              "      <th>0</th>\n",
              "      <td>2023-08-06 20:43:55.317</td>\n",
              "      <td>6842</td>\n",
              "      <td>-3.063638e+00</td>\n",
              "      <td>-6.010954e+01</td>\n",
              "      <td>31.1</td>\n",
              "      <td>68.4</td>\n",
              "      <td>52</td>\n",
              "      <td>-100</td>\n",
              "      <td>214521719-32776--1877958650 655380:43:-1599471561</td>\n",
              "    </tr>\n",
              "    <tr>\n",
              "      <th>1</th>\n",
              "      <td>2023-08-06 20:43:52.156</td>\n",
              "      <td>6838</td>\n",
              "      <td>1.218980e+05</td>\n",
              "      <td>-0.000000e+00</td>\n",
              "      <td>8.154514060939243e+34</td>\n",
              "      <td>0.0</td>\n",
              "      <td>52</td>\n",
              "      <td>-98</td>\n",
              "      <td>1610663911-08-349446 20:43:50</td>\n",
              "    </tr>\n",
              "    <tr>\n",
              "      <th>2</th>\n",
              "      <td>2023-08-06 20:43:43.978</td>\n",
              "      <td>6832</td>\n",
              "      <td>-3.064039e+00</td>\n",
              "      <td>-6.010912e+01</td>\n",
              "      <td>31.1</td>\n",
              "      <td>64.2</td>\n",
              "      <td>52</td>\n",
              "      <td>-97</td>\n",
              "      <td>9439207-08-06 20:43:44</td>\n",
              "    </tr>\n",
              "    <tr>\n",
              "      <th>3</th>\n",
              "      <td>2023-08-06 20:43:38.323</td>\n",
              "      <td>6827</td>\n",
              "      <td>4.556444e+19</td>\n",
              "      <td>-9.403112e+01</td>\n",
              "      <td>13.2</td>\n",
              "      <td>4.2691601403721444e+30</td>\n",
              "      <td>52</td>\n",
              "      <td>-97</td>\n",
              "      <td>-1675181147--2008266680-06 20:43:808452134</td>\n",
              "    </tr>\n",
              "    <tr>\n",
              "      <th>4</th>\n",
              "      <td>2023-08-06 20:43:36.135</td>\n",
              "      <td>6825</td>\n",
              "      <td>-0.000000e+00</td>\n",
              "      <td>-2.481117e+27</td>\n",
              "      <td>-2.285208600532596e+30</td>\n",
              "      <td>-0.8</td>\n",
              "      <td>52</td>\n",
              "      <td>-97</td>\n",
              "      <td>2023--1069232928-264198 20:43:36</td>\n",
              "    </tr>\n",
              "  </tbody>\n",
              "</table>\n",
              "</div>\n",
              "      <button class=\"colab-df-convert\" onclick=\"convertToInteractive('df-2d14820c-8895-4cc1-aacb-24919120bc77')\"\n",
              "              title=\"Convert this dataframe to an interactive table.\"\n",
              "              style=\"display:none;\">\n",
              "\n",
              "  <svg xmlns=\"http://www.w3.org/2000/svg\" height=\"24px\"viewBox=\"0 0 24 24\"\n",
              "       width=\"24px\">\n",
              "    <path d=\"M0 0h24v24H0V0z\" fill=\"none\"/>\n",
              "    <path d=\"M18.56 5.44l.94 2.06.94-2.06 2.06-.94-2.06-.94-.94-2.06-.94 2.06-2.06.94zm-11 1L8.5 8.5l.94-2.06 2.06-.94-2.06-.94L8.5 2.5l-.94 2.06-2.06.94zm10 10l.94 2.06.94-2.06 2.06-.94-2.06-.94-.94-2.06-.94 2.06-2.06.94z\"/><path d=\"M17.41 7.96l-1.37-1.37c-.4-.4-.92-.59-1.43-.59-.52 0-1.04.2-1.43.59L10.3 9.45l-7.72 7.72c-.78.78-.78 2.05 0 2.83L4 21.41c.39.39.9.59 1.41.59.51 0 1.02-.2 1.41-.59l7.78-7.78 2.81-2.81c.8-.78.8-2.07 0-2.86zM5.41 20L4 18.59l7.72-7.72 1.47 1.35L5.41 20z\"/>\n",
              "  </svg>\n",
              "      </button>\n",
              "\n",
              "\n",
              "\n",
              "    <div id=\"df-4666d3a0-e07b-4103-aa00-447972a6d8f0\">\n",
              "      <button class=\"colab-df-quickchart\" onclick=\"quickchart('df-4666d3a0-e07b-4103-aa00-447972a6d8f0')\"\n",
              "              title=\"Suggest charts.\"\n",
              "              style=\"display:none;\">\n",
              "\n",
              "<svg xmlns=\"http://www.w3.org/2000/svg\" height=\"24px\"viewBox=\"0 0 24 24\"\n",
              "     width=\"24px\">\n",
              "    <g>\n",
              "        <path d=\"M19 3H5c-1.1 0-2 .9-2 2v14c0 1.1.9 2 2 2h14c1.1 0 2-.9 2-2V5c0-1.1-.9-2-2-2zM9 17H7v-7h2v7zm4 0h-2V7h2v10zm4 0h-2v-4h2v4z\"/>\n",
              "    </g>\n",
              "</svg>\n",
              "      </button>\n",
              "    </div>\n",
              "\n",
              "<style>\n",
              "  .colab-df-quickchart {\n",
              "    background-color: #E8F0FE;\n",
              "    border: none;\n",
              "    border-radius: 50%;\n",
              "    cursor: pointer;\n",
              "    display: none;\n",
              "    fill: #1967D2;\n",
              "    height: 32px;\n",
              "    padding: 0 0 0 0;\n",
              "    width: 32px;\n",
              "  }\n",
              "\n",
              "  .colab-df-quickchart:hover {\n",
              "    background-color: #E2EBFA;\n",
              "    box-shadow: 0px 1px 2px rgba(60, 64, 67, 0.3), 0px 1px 3px 1px rgba(60, 64, 67, 0.15);\n",
              "    fill: #174EA6;\n",
              "  }\n",
              "\n",
              "  [theme=dark] .colab-df-quickchart {\n",
              "    background-color: #3B4455;\n",
              "    fill: #D2E3FC;\n",
              "  }\n",
              "\n",
              "  [theme=dark] .colab-df-quickchart:hover {\n",
              "    background-color: #434B5C;\n",
              "    box-shadow: 0px 1px 3px 1px rgba(0, 0, 0, 0.15);\n",
              "    filter: drop-shadow(0px 1px 2px rgba(0, 0, 0, 0.3));\n",
              "    fill: #FFFFFF;\n",
              "  }\n",
              "</style>\n",
              "\n",
              "    <script>\n",
              "      async function quickchart(key) {\n",
              "        const containerElement = document.querySelector('#' + key);\n",
              "        const charts = await google.colab.kernel.invokeFunction(\n",
              "            'suggestCharts', [key], {});\n",
              "      }\n",
              "    </script>\n",
              "\n",
              "\n",
              "      <script>\n",
              "\n",
              "function displayQuickchartButton(domScope) {\n",
              "  let quickchartButtonEl =\n",
              "    domScope.querySelector('#df-4666d3a0-e07b-4103-aa00-447972a6d8f0 button.colab-df-quickchart');\n",
              "  quickchartButtonEl.style.display =\n",
              "    google.colab.kernel.accessAllowed ? 'block' : 'none';\n",
              "}\n",
              "\n",
              "        displayQuickchartButton(document);\n",
              "      </script>\n",
              "      <style>\n",
              "    .colab-df-container {\n",
              "      display:flex;\n",
              "      flex-wrap:wrap;\n",
              "      gap: 12px;\n",
              "    }\n",
              "\n",
              "    .colab-df-convert {\n",
              "      background-color: #E8F0FE;\n",
              "      border: none;\n",
              "      border-radius: 50%;\n",
              "      cursor: pointer;\n",
              "      display: none;\n",
              "      fill: #1967D2;\n",
              "      height: 32px;\n",
              "      padding: 0 0 0 0;\n",
              "      width: 32px;\n",
              "    }\n",
              "\n",
              "    .colab-df-convert:hover {\n",
              "      background-color: #E2EBFA;\n",
              "      box-shadow: 0px 1px 2px rgba(60, 64, 67, 0.3), 0px 1px 3px 1px rgba(60, 64, 67, 0.15);\n",
              "      fill: #174EA6;\n",
              "    }\n",
              "\n",
              "    [theme=dark] .colab-df-convert {\n",
              "      background-color: #3B4455;\n",
              "      fill: #D2E3FC;\n",
              "    }\n",
              "\n",
              "    [theme=dark] .colab-df-convert:hover {\n",
              "      background-color: #434B5C;\n",
              "      box-shadow: 0px 1px 3px 1px rgba(0, 0, 0, 0.15);\n",
              "      filter: drop-shadow(0px 1px 2px rgba(0, 0, 0, 0.3));\n",
              "      fill: #FFFFFF;\n",
              "    }\n",
              "  </style>\n",
              "\n",
              "      <script>\n",
              "        const buttonEl =\n",
              "          document.querySelector('#df-2d14820c-8895-4cc1-aacb-24919120bc77 button.colab-df-convert');\n",
              "        buttonEl.style.display =\n",
              "          google.colab.kernel.accessAllowed ? 'block' : 'none';\n",
              "\n",
              "        async function convertToInteractive(key) {\n",
              "          const element = document.querySelector('#df-2d14820c-8895-4cc1-aacb-24919120bc77');\n",
              "          const dataTable =\n",
              "            await google.colab.kernel.invokeFunction('convertToInteractive',\n",
              "                                                     [key], {});\n",
              "          if (!dataTable) return;\n",
              "\n",
              "          const docLinkHtml = 'Like what you see? Visit the ' +\n",
              "            '<a target=\"_blank\" href=https://colab.research.google.com/notebooks/data_table.ipynb>data table notebook</a>'\n",
              "            + ' to learn more about interactive tables.';\n",
              "          element.innerHTML = '';\n",
              "          dataTable['output_type'] = 'display_data';\n",
              "          await google.colab.output.renderOutput(dataTable, element);\n",
              "          const docLink = document.createElement('div');\n",
              "          docLink.innerHTML = docLinkHtml;\n",
              "          element.appendChild(docLink);\n",
              "        }\n",
              "      </script>\n",
              "    </div>\n",
              "  </div>\n"
            ]
          },
          "metadata": {},
          "execution_count": 97
        }
      ]
    }
  ]
}